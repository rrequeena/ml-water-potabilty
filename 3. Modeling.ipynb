{
 "cells": [
  {
   "cell_type": "markdown",
   "id": "87b4619a",
   "metadata": {},
   "source": [
    "# Model to Predict Water Potability - 3rd part\n",
    "## Modeling\n",
    "\n",
    "After EDA, some conclusions were obtained based on how is the data. First, the data need to be preprocessed because there is a considerable difference between different feature values. Some features have values like 5.0 and others 500.0"
   ]
  },
  {
   "cell_type": "code",
   "execution_count": 1,
   "id": "90710cb8",
   "metadata": {},
   "outputs": [
    {
     "data": {
      "text/html": [
       "<div>\n",
       "<style scoped>\n",
       "    .dataframe tbody tr th:only-of-type {\n",
       "        vertical-align: middle;\n",
       "    }\n",
       "\n",
       "    .dataframe tbody tr th {\n",
       "        vertical-align: top;\n",
       "    }\n",
       "\n",
       "    .dataframe thead th {\n",
       "        text-align: right;\n",
       "    }\n",
       "</style>\n",
       "<table border=\"1\" class=\"dataframe\">\n",
       "  <thead>\n",
       "    <tr style=\"text-align: right;\">\n",
       "      <th></th>\n",
       "      <th>ph</th>\n",
       "      <th>Hardness</th>\n",
       "      <th>Solids</th>\n",
       "      <th>Chloramines</th>\n",
       "      <th>Sulfate</th>\n",
       "      <th>Conductivity</th>\n",
       "      <th>Organic_carbon</th>\n",
       "      <th>Trihalomethanes</th>\n",
       "      <th>Turbidity</th>\n",
       "      <th>Potability</th>\n",
       "    </tr>\n",
       "  </thead>\n",
       "  <tbody>\n",
       "    <tr>\n",
       "      <th>0</th>\n",
       "      <td>3.716080</td>\n",
       "      <td>204.890455</td>\n",
       "      <td>20791.318981</td>\n",
       "      <td>7.300212</td>\n",
       "      <td>368.516441</td>\n",
       "      <td>564.308654</td>\n",
       "      <td>10.379783</td>\n",
       "      <td>86.990970</td>\n",
       "      <td>2.963135</td>\n",
       "      <td>0</td>\n",
       "    </tr>\n",
       "    <tr>\n",
       "      <th>1</th>\n",
       "      <td>3.716080</td>\n",
       "      <td>129.422921</td>\n",
       "      <td>18630.057858</td>\n",
       "      <td>6.635246</td>\n",
       "      <td>368.516441</td>\n",
       "      <td>592.885359</td>\n",
       "      <td>15.180013</td>\n",
       "      <td>56.329076</td>\n",
       "      <td>4.500656</td>\n",
       "      <td>0</td>\n",
       "    </tr>\n",
       "    <tr>\n",
       "      <th>2</th>\n",
       "      <td>8.099124</td>\n",
       "      <td>224.236259</td>\n",
       "      <td>19909.541732</td>\n",
       "      <td>9.275884</td>\n",
       "      <td>368.516441</td>\n",
       "      <td>418.606213</td>\n",
       "      <td>16.868637</td>\n",
       "      <td>66.420093</td>\n",
       "      <td>3.055934</td>\n",
       "      <td>0</td>\n",
       "    </tr>\n",
       "    <tr>\n",
       "      <th>3</th>\n",
       "      <td>8.316766</td>\n",
       "      <td>214.373394</td>\n",
       "      <td>22018.417441</td>\n",
       "      <td>8.059332</td>\n",
       "      <td>356.886136</td>\n",
       "      <td>363.266516</td>\n",
       "      <td>18.436524</td>\n",
       "      <td>100.341674</td>\n",
       "      <td>4.628771</td>\n",
       "      <td>0</td>\n",
       "    </tr>\n",
       "    <tr>\n",
       "      <th>4</th>\n",
       "      <td>9.092223</td>\n",
       "      <td>181.101509</td>\n",
       "      <td>17978.986339</td>\n",
       "      <td>6.546600</td>\n",
       "      <td>310.135738</td>\n",
       "      <td>398.410813</td>\n",
       "      <td>11.558279</td>\n",
       "      <td>31.997993</td>\n",
       "      <td>4.075075</td>\n",
       "      <td>0</td>\n",
       "    </tr>\n",
       "  </tbody>\n",
       "</table>\n",
       "</div>"
      ],
      "text/plain": [
       "         ph    Hardness        Solids  Chloramines     Sulfate  Conductivity  \\\n",
       "0  3.716080  204.890455  20791.318981     7.300212  368.516441    564.308654   \n",
       "1  3.716080  129.422921  18630.057858     6.635246  368.516441    592.885359   \n",
       "2  8.099124  224.236259  19909.541732     9.275884  368.516441    418.606213   \n",
       "3  8.316766  214.373394  22018.417441     8.059332  356.886136    363.266516   \n",
       "4  9.092223  181.101509  17978.986339     6.546600  310.135738    398.410813   \n",
       "\n",
       "   Organic_carbon  Trihalomethanes  Turbidity  Potability  \n",
       "0       10.379783        86.990970   2.963135           0  \n",
       "1       15.180013        56.329076   4.500656           0  \n",
       "2       16.868637        66.420093   3.055934           0  \n",
       "3       18.436524       100.341674   4.628771           0  \n",
       "4       11.558279        31.997993   4.075075           0  "
      ]
     },
     "execution_count": 1,
     "metadata": {},
     "output_type": "execute_result"
    }
   ],
   "source": [
    "import pandas as pd\n",
    "import matplotlib.pyplot as plt\n",
    "import seaborn as sns\n",
    "\n",
    "df = pd.read_csv(\"data/clean_dataset.csv\")\n",
    "df.head()"
   ]
  },
  {
   "cell_type": "code",
   "execution_count": 3,
   "id": "7a2a1e89",
   "metadata": {},
   "outputs": [],
   "source": [
    "X = df.drop([\"Potability\"], axis=1)\n",
    "y = df[\"Potability\"]"
   ]
  },
  {
   "cell_type": "markdown",
   "id": "006414fa",
   "metadata": {},
   "source": [
    "### Data Preprocessing"
   ]
  },
  {
   "cell_type": "code",
   "execution_count": 13,
   "id": "0119a917",
   "metadata": {},
   "outputs": [
    {
     "name": "stdout",
     "output_type": "stream",
     "text": [
      "Scaled data:\n",
      " [[0.26543429 0.57113901 0.33609646 0.54389134 0.68038521 0.66943948\n",
      "  0.31340165 0.69975313 0.28609102]\n",
      " [0.26543429 0.29740043 0.30061142 0.49183921 0.68038521 0.71941108\n",
      "  0.49731851 0.4509993  0.57679264]\n",
      " [0.57850887 0.64131081 0.32161885 0.69854275 0.68038521 0.41465206\n",
      "  0.56201674 0.5328657  0.30363656]\n",
      " [0.59405471 0.60553587 0.35624379 0.60331369 0.64734744 0.31788047\n",
      "  0.62208906 0.80806473 0.60101542]\n",
      " [0.64944453 0.48485088 0.28992169 0.48490019 0.51454537 0.37933671\n",
      "  0.35855477 0.25360608 0.49632736]]\n"
     ]
    },
    {
     "data": {
      "text/plain": [
       "['models/scaler.save']"
      ]
     },
     "execution_count": 13,
     "metadata": {},
     "output_type": "execute_result"
    }
   ],
   "source": [
    "from sklearn.preprocessing import MinMaxScaler\n",
    "import joblib\n",
    "scaler = MinMaxScaler()\n",
    "X_scaled = scaler.fit_transform(X)\n",
    "print(\"Scaled data:\\n\", X_scaled[:5, :])\n",
    "# Save scaler to use on deployment\n",
    "scaler_path = \"models/scaler.save\"\n",
    "joblib.dump(scaler, scaler_path)"
   ]
  },
  {
   "cell_type": "markdown",
   "id": "68740271",
   "metadata": {},
   "source": [
    "### Data Split"
   ]
  },
  {
   "cell_type": "code",
   "execution_count": 14,
   "id": "dcf0a2f7",
   "metadata": {},
   "outputs": [],
   "source": [
    "from sklearn.model_selection import train_test_split\n",
    "X_train, X_test, y_train, y_test = train_test_split(X_scaled, y,\n",
    "                                                   test_size=0.3, random_state=42)"
   ]
  },
  {
   "cell_type": "markdown",
   "id": "6ee11f35",
   "metadata": {},
   "source": [
    "### Balancing data\n",
    "\n",
    "The random over-sampling technique will be used to balance the data, _imblearn_ library can help with this case."
   ]
  },
  {
   "cell_type": "code",
   "execution_count": 25,
   "id": "c8fa8ce2",
   "metadata": {},
   "outputs": [],
   "source": [
    "from imblearn.over_sampling import RandomOverSampler\n",
    "ros = RandomOverSampler(random_state=42)\n",
    "X_o_sampled, y_o_sampled = ros.fit_resample(X_train, y_train)"
   ]
  },
  {
   "cell_type": "code",
   "execution_count": 26,
   "id": "c10d6dd2",
   "metadata": {},
   "outputs": [
    {
     "name": "stdout",
     "output_type": "stream",
     "text": [
      "Before over-sampling: \n",
      "[(0, 1381), (1, 912)]\n",
      "\n",
      "After over-sampling: \n",
      "[(0, 1381), (1, 1381)]\n"
     ]
    }
   ],
   "source": [
    "from collections import Counter\n",
    "print(\"Before over-sampling: \")\n",
    "print(sorted(Counter(y_train).items()))\n",
    "print(\"\\nAfter over-sampling: \")\n",
    "print(sorted(Counter(y_o_sampled).items()))"
   ]
  },
  {
   "cell_type": "markdown",
   "id": "eeb6d04f",
   "metadata": {},
   "source": [
    "Training data is still imbalanced, but after applying oversampling, the data has the same number for each class. The data will be under-sampled to train another model and compare performances."
   ]
  },
  {
   "cell_type": "code",
   "execution_count": 27,
   "id": "ca92c974",
   "metadata": {},
   "outputs": [
    {
     "name": "stdout",
     "output_type": "stream",
     "text": [
      "Before under-sampling: \n",
      "[(0, 1381), (1, 912)]\n",
      "\n",
      "After under-sampling: \n",
      "[(0, 912), (1, 912)]\n"
     ]
    }
   ],
   "source": [
    "from imblearn.under_sampling import RandomUnderSampler\n",
    "rus = RandomUnderSampler(random_state=42)\n",
    "X_u_sampled, y_u_sampled = rus.fit_resample(X_train, y_train)\n",
    "print(\"Before under-sampling: \")\n",
    "print(sorted(Counter(y_train).items()))\n",
    "print(\"\\nAfter under-sampling: \")\n",
    "print(sorted(Counter(y_u_sampled).items()))"
   ]
  },
  {
   "cell_type": "markdown",
   "id": "6911ed61",
   "metadata": {},
   "source": [
    "With that samples the next step is train the models, based on the EDA the models for this problem will be Support Vector Classifier (SVC), KNeighborsClassifier, GaussianProcessClassifier and Categorical Naive Bayes (CategoricalNB).  "
   ]
  },
  {
   "cell_type": "code",
   "execution_count": 29,
   "id": "6b2e9fdd",
   "metadata": {},
   "outputs": [
    {
     "name": "stdout",
     "output_type": "stream",
     "text": [
      "=========================================\n",
      "          WITH OVERSAMPLED DATA          \n",
      "=========================================\n",
      "Accuracy score with SVC model: 0.6653102746693794\n",
      "Accuracy score with KNeighborsClassifier model: 0.6063072227873856\n",
      "Accuracy score with GaussianProcessClassifier model: 0.6154628687690743\n",
      "Accuracy score with CategoricalNB model: 0.6276703967446592\n",
      "=========================================\n",
      "          WITH UNDERSAMPLED DATA          \n",
      "=========================================\n",
      "Accuracy score with SVC model: 0.6602238046795524\n",
      "Accuracy score with KNeighborsClassifier model: 0.5890132248219736\n",
      "Accuracy score with GaussianProcessClassifier model: 0.5768056968463886\n",
      "Accuracy score with CategoricalNB model: 0.6276703967446592\n"
     ]
    }
   ],
   "source": [
    "# Models\n",
    "from sklearn.neighbors import KNeighborsClassifier\n",
    "from sklearn.gaussian_process import GaussianProcessClassifier\n",
    "from sklearn.svm import SVC\n",
    "from sklearn.naive_bayes import CategoricalNB\n",
    "# Metrics\n",
    "from sklearn.metrics import accuracy_score\n",
    "\n",
    "def model_training(models, names, X_train, X_test, y_train, y_test):\n",
    "    for idx, clf in enumerate(models):\n",
    "        clf.fit(X_train, y_train)\n",
    "        predictions = clf.predict(X_test)\n",
    "        score = accuracy_score(y_test, predictions)\n",
    "        print(f\"Accuracy score with {names[idx]} model: {score}\")\n",
    "\n",
    "models = [\n",
    "    SVC(gamma=2, C=1),\n",
    "    KNeighborsClassifier(n_neighbors=3),\n",
    "    GaussianProcessClassifier(),\n",
    "    CategoricalNB()\n",
    "]\n",
    "\n",
    "model_names = [\n",
    "    \"SVC\",\n",
    "    \"KNeighborsClassifier\",\n",
    "    \"GaussianProcessClassifier\",\n",
    "    \"CategoricalNB\"\n",
    "]\n",
    "\n",
    "print(\"=========================================\")\n",
    "print(\"          WITH OVERSAMPLED DATA          \")\n",
    "print(\"=========================================\")\n",
    "model_training(models, model_names, X_o_sampled, X_test, y_o_sampled, y_test)\n",
    "print(\"=========================================\")\n",
    "print(\"          WITH UNDERSAMPLED DATA          \")\n",
    "print(\"=========================================\")\n",
    "model_training(models, model_names, X_u_sampled, X_test, y_u_sampled, y_test)"
   ]
  },
  {
   "cell_type": "markdown",
   "id": "3cd2da4b",
   "metadata": {},
   "source": [
    "With the oversampled data, the results were better. SVC and CategoricalNB got the best performance. \n",
    "\n",
    "The next step is to find the best parameters for these models and save the best for deployment."
   ]
  },
  {
   "cell_type": "markdown",
   "id": "56c34028",
   "metadata": {},
   "source": [
    "### Hyper-parameter tuning\n",
    "\n",
    "Before deployment, we must tune it to find the best parameters and get the best performance to make a better model."
   ]
  },
  {
   "cell_type": "code",
   "execution_count": 38,
   "id": "5c4665a9",
   "metadata": {},
   "outputs": [],
   "source": [
    "from sklearn.model_selection import GridSearchCV\n",
    "# Classifiers\n",
    "cnb = CategoricalNB()\n",
    "kneighbors = KNeighborsClassifier()\n",
    "svc = SVC()\n",
    "\n",
    "# Parameters\n",
    "cnb_parm = {\n",
    "    \"alpha\": [0.01, 0.1, 0.5, 0.8, 1, 1.5, 2, 5],\n",
    "    \"fit_prior\": [True, False]\n",
    "}\n",
    "kneighbors_parm = {\n",
    "    \"n_neighbors\": [1, 2, 3, 4, 5, 6, 7, 8, 9, 10],\n",
    "    \"algorithm\": [\"auto\", \"ball_tree\", \"kd_tree\", \"brute\"],\n",
    "}\n",
    "svc_parm = {\n",
    "    \"C\": [0.1, 0.5, 0.8, 1, 1.5, 2, 3],\n",
    "    \"gamma\": [0.001, 0.005, 0.1, 0.5, 0.8, 1, 1.5, 2, 3, 5, 7],\n",
    "    \"probability\": [True, False]\n",
    "}\n",
    "\n",
    "# Tuned Classifiers\n",
    "cnb_clf = GridSearchCV(cnb, cnb_parm)\n",
    "kneighbors_clf = GridSearchCV(kneighbors, kneighbors_parm)\n",
    "svc_clf = GridSearchCV(svc, svc_parm)"
   ]
  },
  {
   "cell_type": "code",
   "execution_count": 39,
   "id": "c57a9a8a",
   "metadata": {},
   "outputs": [
    {
     "data": {
      "text/plain": [
       "GridSearchCV(estimator=SVC(),\n",
       "             param_grid={'C': [0.1, 0.5, 0.8, 1, 1.5, 2, 3],\n",
       "                         'gamma': [0.001, 0.005, 0.1, 0.5, 0.8, 1, 1.5, 2, 3, 5,\n",
       "                                   7],\n",
       "                         'probability': [True, False]})"
      ]
     },
     "execution_count": 39,
     "metadata": {},
     "output_type": "execute_result"
    }
   ],
   "source": [
    "%%capture --no-display\n",
    "# Training\n",
    "cnb_clf.fit(X_o_sampled, y_o_sampled)\n",
    "kneighbors_clf.fit(X_o_sampled, y_o_sampled)\n",
    "svc_clf.fit(X_o_sampled, y_o_sampled)"
   ]
  },
  {
   "cell_type": "code",
   "execution_count": 41,
   "id": "794764be",
   "metadata": {},
   "outputs": [
    {
     "name": "stdout",
     "output_type": "stream",
     "text": [
      "Best parameters for SVC:  {'C': 3, 'gamma': 7, 'probability': True}\n",
      "Best parameters for KNeighborsClassifier:  {'algorithm': 'auto', 'n_neighbors': 1}\n",
      "Best parameters for CategoricalNB:  {'alpha': 0.01, 'fit_prior': True}\n"
     ]
    }
   ],
   "source": [
    "print(\"Best parameters for SVC: \", svc_clf.best_params_)\n",
    "print(\"Best parameters for KNeighborsClassifier: \", kneighbors_clf.best_params_)\n",
    "print(\"Best parameters for CategoricalNB: \", cnb_clf.best_params_)"
   ]
  },
  {
   "cell_type": "markdown",
   "id": "47237995",
   "metadata": {},
   "source": [
    "Let's see how is the new score with that parameters."
   ]
  },
  {
   "cell_type": "code",
   "execution_count": 42,
   "id": "de5f4e49",
   "metadata": {},
   "outputs": [
    {
     "name": "stdout",
     "output_type": "stream",
     "text": [
      "SVC score:  0.6531027466937945\n"
     ]
    }
   ],
   "source": [
    "tuned_svc = SVC(C=3, gamma=7, probability=True)\n",
    "tuned_svc.fit(X_o_sampled, y_o_sampled)\n",
    "svc_predictions = tuned_svc.predict(X_test)\n",
    "svc_score = accuracy_score(y_test, svc_predictions)\n",
    "print(\"SVC score: \", svc_score)"
   ]
  },
  {
   "cell_type": "code",
   "execution_count": 43,
   "id": "03c1dec0",
   "metadata": {},
   "outputs": [
    {
     "name": "stdout",
     "output_type": "stream",
     "text": [
      "SVC score:  0.6276703967446592\n"
     ]
    }
   ],
   "source": [
    "tuned_cnb = CategoricalNB(alpha=0.01, fit_prior=True)\n",
    "tuned_cnb.fit(X_o_sampled, y_o_sampled)\n",
    "cnb_predictions = tuned_cnb.predict(X_test)\n",
    "cnb_score = accuracy_score(y_test, cnb_predictions)\n",
    "print(\"CategoricalNB score: \", cnb_score)"
   ]
  },
  {
   "cell_type": "code",
   "execution_count": 44,
   "id": "eb6ef125",
   "metadata": {},
   "outputs": [
    {
     "name": "stdout",
     "output_type": "stream",
     "text": [
      "KNeighbors score:  0.5961342828077314\n"
     ]
    }
   ],
   "source": [
    "tuned_kn = KNeighborsClassifier(n_neighbors=1, algorithm='auto')\n",
    "tuned_kn.fit(X_o_sampled, y_o_sampled)\n",
    "kn_predictions = tuned_kn.predict(X_test)\n",
    "kn_score = accuracy_score(y_test, kn_predictions)\n",
    "print(\"KNeighbors score: \", kn_score)"
   ]
  },
  {
   "cell_type": "markdown",
   "id": "070aeb67",
   "metadata": {},
   "source": [
    "There is no good performance concerning the first training; let's try with an ensemble method."
   ]
  },
  {
   "cell_type": "code",
   "execution_count": 48,
   "id": "cc2fb739",
   "metadata": {},
   "outputs": [
    {
     "data": {
      "text/plain": [
       "RandomForestClassifier()"
      ]
     },
     "execution_count": 48,
     "metadata": {},
     "output_type": "execute_result"
    }
   ],
   "source": [
    "from sklearn.ensemble import AdaBoostClassifier, BaggingClassifier, RandomForestClassifier\n",
    "# Classifiers\n",
    "ada_clf = AdaBoostClassifier(n_estimators=100)\n",
    "baggin_clf = BaggingClassifier(n_estimators=100)\n",
    "forest_clf = RandomForestClassifier(n_estimators=100)\n",
    "\n",
    "# Training\n",
    "ada_clf.fit(X_o_sampled, y_o_sampled)\n",
    "baggin_clf.fit(X_o_sampled, y_o_sampled)\n",
    "forest_clf.fit(X_o_sampled, y_o_sampled)"
   ]
  },
  {
   "cell_type": "code",
   "execution_count": 49,
   "id": "c16d81bd",
   "metadata": {},
   "outputs": [
    {
     "name": "stdout",
     "output_type": "stream",
     "text": [
      "AdaBoost accuracy score: 60.33%\n",
      "Bagging accuracy score: 69.38%\n",
      "RandomForest accuracy score: 68.36%\n"
     ]
    }
   ],
   "source": [
    "# Predictions\n",
    "ada_pred = ada_clf.predict(X_test)\n",
    "bagging_pred = baggin_clf.predict(X_test)\n",
    "forest_pred = forest_clf.predict(X_test)\n",
    "\n",
    "# Get scores\n",
    "ada_score = accuracy_score(y_test, ada_pred)\n",
    "bagging_score = accuracy_score(y_test, bagging_pred)\n",
    "forest_score = accuracy_score(y_test, forest_pred)\n",
    "print(f\"AdaBoost accuracy score: {ada_score*100:.2f}%\")\n",
    "print(f\"Bagging accuracy score: {bagging_score*100:.2f}%\")\n",
    "print(f\"RandomForest accuracy score: {forest_score*100:.2f}%\")"
   ]
  },
  {
   "cell_type": "markdown",
   "id": "c176fbeb",
   "metadata": {},
   "source": [
    "Bagging classifier got the best performance with 69.38% on accuracy score. Let's see other metrics and then save the model for deploying it."
   ]
  },
  {
   "cell_type": "code",
   "execution_count": 85,
   "id": "640e1164",
   "metadata": {},
   "outputs": [
    {
     "data": {
      "image/png": "[encoded data removed]",
      "text/plain": [
       "<Figure size 432x288 with 2 Axes>"
      ]
     },
     "metadata": {
      "needs_background": "light"
     },
     "output_type": "display_data"
    }
   ],
   "source": [
    "%%capture --no-display\n",
    "from sklearn.metrics import plot_confusion_matrix\n",
    "plot_confusion_matrix(baggin_clf, X_test, y_test)\n",
    "plt.show()"
   ]
  },
  {
   "cell_type": "code",
   "execution_count": 55,
   "id": "98d05262",
   "metadata": {},
   "outputs": [
    {
     "name": "stdout",
     "output_type": "stream",
     "text": [
      "Accuracy score for training data: 100.00%\n"
     ]
    }
   ],
   "source": [
    "train_pred = baggin_clf.predict(X_o_sampled)\n",
    "train_score = accuracy_score(y_o_sampled, train_pred)\n",
    "print(f\"Accuracy score for training data: {train_score*100:.2f}%\")"
   ]
  },
  {
   "cell_type": "markdown",
   "id": "62743f2e",
   "metadata": {},
   "source": [
    "With bagging, the model is getting overfitting; let's see how the other models are performing."
   ]
  },
  {
   "cell_type": "code",
   "execution_count": 59,
   "id": "40a35530",
   "metadata": {
    "scrolled": true
   },
   "outputs": [
    {
     "name": "stdout",
     "output_type": "stream",
     "text": [
      "Accuracy score for training data with RandomForestClassifier: 100.00%\n",
      "Accuracy score for training data with AdaBoostClassifier: 100.00%\n"
     ]
    }
   ],
   "source": [
    "train_forest_pred = forest_clf.predict(X_o_sampled)\n",
    "train_forest_score = accuracy_score(y_o_sampled, train_forest_pred)\n",
    "print(f\"Accuracy score for training data with RandomForestClassifier: {train_forest_score*100:.2f}%\")\n",
    "train_ada_pred = ada_clf.predict(X_o_sampled)\n",
    "train_ada_score = accuracy_score(y_o_sampled, train_ada_pred)\n",
    "print(f\"Accuracy score for training data with AdaBoostClassifier: {train_forest_score*100:.2f}%\")"
   ]
  },
  {
   "cell_type": "markdown",
   "id": "88ea2ac8",
   "metadata": {},
   "source": [
    "Those models have better accuracy scores but with overfitting. Let's check with SVC:"
   ]
  },
  {
   "cell_type": "code",
   "execution_count": 82,
   "id": "ee44f8e9",
   "metadata": {},
   "outputs": [
    {
     "name": "stdout",
     "output_type": "stream",
     "text": [
      "Accuracy score for training data with SVC: 63.03%\n",
      "Accuracy score for testing data with SVC: 67.04%\n"
     ]
    }
   ],
   "source": [
    "svc_1 = SVC(gamma=1, C=3)\n",
    "svc_1.fit(X_o_sampled, y_o_sampled)\n",
    "svc_train_pred = svc_1.predict(X_o_sampled)\n",
    "svc_train_score = accuracy_score(y_o_sampled, svc_train_pred)\n",
    "print(f\"Accuracy score for training data with SVC: {svc_train_score*100:.2f}%\")\n",
    "svc_preds = svc_1.predict(X_test)\n",
    "svc_1_score = accuracy_score(y_test, svc_preds)\n",
    "print(f\"Accuracy score for testing data with SVC: {svc_1_score*100:.2f}%\")"
   ]
  },
  {
   "cell_type": "code",
   "execution_count": 90,
   "id": "1ce8b832",
   "metadata": {},
   "outputs": [
    {
     "data": {
      "text/plain": [
       "<sklearn.metrics._plot.roc_curve.RocCurveDisplay at 0x2110e00e610>"
      ]
     },
     "execution_count": 90,
     "metadata": {},
     "output_type": "execute_result"
    },
    {
     "data": {
      "image/png": "[encoded data removed]",
      "text/plain": [
       "<Figure size 432x288 with 1 Axes>"
      ]
     },
     "metadata": {
      "needs_background": "light"
     },
     "output_type": "display_data"
    }
   ],
   "source": [
    "%%capture --no-display\n",
    "from sklearn.metrics import plot_roc_curve\n",
    "plot_roc_curve(svc_1, X_o_sampled, y_o_sampled)"
   ]
  },
  {
   "cell_type": "markdown",
   "id": "4cce0a04",
   "metadata": {},
   "source": [
    "The SVC model isn't getting overfitting, and for testing data, the model show 67% of accuracy. The next step is to save the model and deploy it to make the first tests on a web app."
   ]
  },
  {
   "cell_type": "code",
   "execution_count": 83,
   "id": "bc37a5a9",
   "metadata": {},
   "outputs": [
    {
     "data": {
      "text/plain": [
       "['models/svc.save']"
      ]
     },
     "execution_count": 83,
     "metadata": {},
     "output_type": "execute_result"
    }
   ],
   "source": [
    "model_path = \"models/svc.save\"\n",
    "joblib.dump(svc_1, model_path)"
   ]
  }
 ],
 "metadata": {
  "kernelspec": {
   "display_name": "Python 3 (ipykernel)",
   "language": "python",
   "name": "python3"
  },
  "language_info": {
   "codemirror_mode": {
    "name": "ipython",
    "version": 3
   },
   "file_extension": ".py",
   "mimetype": "text/x-python",
   "name": "python",
   "nbconvert_exporter": "python",
   "pygments_lexer": "ipython3",
   "version": "3.9.1"
  }
 },
 "nbformat": 4,
 "nbformat_minor": 5
}
